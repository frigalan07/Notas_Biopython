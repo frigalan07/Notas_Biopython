{
 "cells": [
  {
   "cell_type": "markdown",
   "metadata": {},
   "source": [
    "Obtener una cadena proteíca de cualquiera de sus ORF's \n",
    "ADVANCE: imprimir el de mayor longitud "
   ]
  },
  {
   "cell_type": "code",
   "execution_count": 1,
   "metadata": {},
   "outputs": [
    {
     "name": "stderr",
     "output_type": "stream",
     "text": [
      "/Library/Frameworks/Python.framework/Versions/3.12/lib/python3.12/site-packages/Bio/Seq.py:2880: BiopythonWarning: Partial codon, len(sequence) not a multiple of three. Explicitly trim the sequence or add trailing N before translation. This may become an error in future.\n",
      "  warnings.warn(\n"
     ]
    },
    {
     "name": "stdout",
     "output_type": "stream",
     "text": [
      "Secuencia de aminoácidos del ORF1 es el más largo:  SHVANSGYMGMTPRLGLESLLE\n",
      "len ORF1:  22\n",
      "len ORF2:  2\n",
      "len ORF3:  3\n"
     ]
    }
   ],
   "source": [
    "from Bio.Seq import Seq\n",
    "from Bio import SeqUtils\n",
    "\n",
    "seqobj = Seq(\"AGCCATGTAGCTAACTCAGGTTACATGGGGATGACCCCGCGACTTGGATTAGAGTCTCTTTTGGAATAAGCCTGAATGATCCGAGTAGCATCTCAG\")\n",
    "\n",
    "# Traducir la secuencia completa hasta el primer stop codon\n",
    "proteina = seqobj.translate(to_stop=True)\n",
    "\n",
    "# Traducir en los diferentes marcos de lectura\n",
    "proteina_ORF1 = seqobj[0:].translate(to_stop=True)\n",
    "proteina_ORF2 = seqobj[1:].translate(to_stop=True)\n",
    "proteina_ORF3 = seqobj[2:].translate(to_stop=True)\n",
    "\n",
    "# Búsqueda de patrones\n",
    "pattern = \"TAC\"\n",
    "ORF = SeqUtils.nt_search(str(seqobj), pattern)\n",
    "\n",
    "# Determinar el ORF más largo\n",
    "if len(proteina_ORF1) > len(proteina_ORF2) and len(proteina_ORF1) > len(proteina_ORF3):\n",
    "    print(\"Secuencia de aminoácidos del ORF1 es el más largo: \", proteina_ORF1)\n",
    "elif len(proteina_ORF2) > len(proteina_ORF1) and len(proteina_ORF2) > len(proteina_ORF3):\n",
    "    print(\"Secuencia de aminoácidos del ORF2 es el más largo: \", proteina_ORF2)\n",
    "else:\n",
    "    print(\"Secuencia de aminoácidos del ORF3 es el más largo: \", proteina_ORF3)\n",
    "\n",
    "print(\"len ORF1: \", len(proteina_ORF1))\n",
    "print(\"len ORF2: \", len(proteina_ORF2))\n",
    "print(\"len ORF3: \", len(proteina_ORF3))\n"
   ]
  },
  {
   "cell_type": "markdown",
   "metadata": {},
   "source": [
    "Buscar secuencias consenso; una secuencia consenso es una secuencia \"promedio\" que refleja los nucleótidos o aminoácidos más comunes en una posición específica de un conjunto de secuencias similares."
   ]
  },
  {
   "cell_type": "code",
   "execution_count": 17,
   "metadata": {},
   "outputs": [],
   "source": [
    "from Bio import SeqUtils\n",
    "\n",
    "consensus = \"RGWYV\"\n",
    "sequence = \"CGTAGCTAGCTCAGAGCAGGGACACGTGCTAGCAACAGCGCT\"\n",
    "\n",
    "resultado = SeqUtils.nt_search(sequence, consensus)"
   ]
  },
  {
   "cell_type": "markdown",
   "metadata": {},
   "source": [
    "Motifs; Un motif en bioinformática es un patrón o secuencia conservada que aparece en múltiples secuencias de ADN, ARN, o proteínas. Identificar motifs ayuda a entender las regiones funcionales del genoma."
   ]
  },
  {
   "cell_type": "code",
   "execution_count": null,
   "metadata": {},
   "outputs": [],
   "source": [
    "from Bio.Seq import Seq\n",
    "from Bio import motifs\n",
    "\n",
    "# Crear instancias de secuencias de ADN\n",
    "instances = [\n",
    "    Seq(\"TACAA\"),\n",
    "    Seq(\"TACGC\"),\n",
    "    Seq(\"TACAC\"),\n",
    "    Seq(\"TACCC\"),\n",
    "    Seq(\"AACCC\"),\n",
    "    Seq(\"AATGC\"),\n",
    "    Seq(\"AATGC\"),\n",
    "]\n",
    "\n",
    "# Crear el motif\n",
    "m = motifs.create(instances)"
   ]
  },
  {
   "cell_type": "markdown",
   "metadata": {},
   "source": [
    "**SeqIO; Módulo de BioPython que permite:**\n",
    "\n",
    "1. Leer secuencias: SeqIO puede leer secuencias de archivos en varios formatos como FASTA, GenBank, EMBL, etc\n",
    "2. Escribir secuencias: SeqIO puede escribir secuencias en archivos en diferentes formatos.\n",
    "3. Conversión de formatos: Facilita la conversión de secuencias de un formato de archivo a otro.\n",
    "4. Manipulación de secuencias: Permite iterar sobre secuencias y acceder a sus atributos y metadatos.\n"
   ]
  },
  {
   "cell_type": "code",
   "execution_count": null,
   "metadata": {},
   "outputs": [],
   "source": [
    "'''\n",
    "**Lectura archivo formato fasta:**\n",
    "> parsea archivo example.fasta, puedes obtener id, seq, name, features, etc..\n",
    "> `SeqIO.parse()`, devuelve un iterador que te permite recorrer todas las secuencias en el archivo\n",
    "> `record`; cada record es un objeto de `SeqRecord` que contiene la secuencia y medatados \n",
    "> Utilizamos la sentencia with para abrir el archivo ejemplo.fasta en modo lectura. \n",
    "La sentencia with garantiza que el archivo se cierre automáticamente al final del bloque, incluso si ocurre una excepción. \n",
    "> `handle` es un objeto de archivo que se utiliza como entrada para las funciones de SeqIO.\n",
    "'''\n",
    "\n",
    "from Bio import SeqIO\n",
    "\n",
    "for record in SeqIO.parse(\"ejemplo.fasta\", \"fasta\"): \n",
    "    print(record.id)\n",
    "\n",
    "\n",
    "# alternativamente se puede usar lo siguiente    \n",
    "with open(\"ejemplo.fasta\") as handle: # `handle` : nombre del archivo u objeto similar al archivo\n",
    "    for record in SeqIO.parse(handle, \"fasta\"):\n",
    "        print(record.id)\n",
    "\n",
    "\n",
    "\n",
    "#SeqIO.read(): similar pero solo si tienes un único record en archivo\n",
    "\n",
    "record = SeqIO.read(\"single.fasta\", \"fasta\")"
   ]
  },
  {
   "cell_type": "markdown",
   "metadata": {},
   "source": [
    "**Funcion Format**\n",
    "Se utiliza para formatear cadenas de texto de manera flexible y legible. Aqui se utiliza para insetar valores(como el ID, longitud de la secuencia y su traducción)  dentro de la cadena de texto\n"
   ]
  },
  {
   "cell_type": "code",
   "execution_count": null,
   "metadata": {},
   "outputs": [],
   "source": [
    "#Leer archivos fasta \n",
    "\n",
    "from Bio import SeqIO\n",
    "#dirección de archivo\n",
    "filename = \"files/clase_2/seq.nt.fa\"\n",
    "#por cada record queremos ID, longitud seq y traducción\n",
    "for seq_record in SeqIO.parse(filename, \"fasta\"):\n",
    "    print('ID {}'.format(seq_record.id))\n",
    "    print('len {}'.format(len(seq_record)))\n",
    "    print('Traducción {}'.format(seq_record.seq.translate(to_stop=False)))\n",
    "#  (to_stop=False,cds=True)\n",
    "#cds revisa que tenga un codón de inicio"
   ]
  },
  {
   "cell_type": "code",
   "execution_count": null,
   "metadata": {},
   "outputs": [],
   "source": [
    "'''\n",
    "**Escribir secuencias a un archivo**\n",
    "`SeqIO.write` toma una lista de objetos `SeqRecord`, un nombre de archivo y el formato en el que se quiere escribir\n",
    "'''\n",
    "from Bio.Seq import Seq\n",
    "from Bio.SeqRecord import SeqRecord\n",
    "\n",
    "# Crear algunas secuencias de ejemplo\n",
    "sequences = [\n",
    "    SeqRecord(Seq(\"ATGGCCATTGTAATGGGCCGCTGAAAGGGTGCCCGATAG\"), id=\"seq1\", description=\"Example sequence 1\"),\n",
    "    SeqRecord(Seq(\"GGGCGGCGGTCAGTTCAGGGAAC\"), id=\"seq2\", description=\"Example sequence 2\"),\n",
    "]\n",
    "\n",
    "# Escribir las secuencias a un archivo FASTA\n",
    "SeqIO.write(sequences, \"output.fasta\", \"fasta\")\n",
    "#La diferencia con el metodo de abajo es que aqui \"output.fasta\" es el nombre del archivo en lugar de un objeto de archivo\n",
    "\n",
    "#Manera alternativa, necesita SeqRecord, archivo output y tipo de formato\n",
    "with open(\"ejemplo.fasta\", \"w\") as output_handle:\n",
    "    #secuencias es un iterador de objetos seqrecord  \n",
    "    SeqIO.write(secuencias, output_handle, \"fasta\")\n",
    "    "
   ]
  },
  {
   "cell_type": "code",
   "execution_count": null,
   "metadata": {},
   "outputs": [],
   "source": [
    "'''\n",
    "**Convertir entre formatos** \n",
    "'''\n",
    "from Bio import SeqIO\n",
    "from Bio.SeqRecord import SeqRecord\n",
    "\n",
    "\n",
    "# Convertir de FASTA a GenBank\n",
    "input_file = \"sequences.fasta\"\n",
    "output_file = \"sequences.gb\"\n",
    "\n",
    "# Leer las secuencias del archivo FASTA\n",
    "sequences = SeqIO.parse(input_file, \"fasta\")\n",
    "\n",
    "# Escribir las secuencias en el archivo GenBank\n",
    "SeqIO.write(sequences, output_file, \"genbank\")"
   ]
  },
  {
   "cell_type": "markdown",
   "metadata": {},
   "source": [
    "**Archivo fasta a diccionario de Python**\n",
    "\n",
    "Usaremos SeqIO.to_dict para que nuestro archivo parseado sea convertido en un diccionario. No es conveniente cuando el archivo es muy grande.  "
   ]
  },
  {
   "cell_type": "code",
   "execution_count": null,
   "metadata": {},
   "outputs": [],
   "source": [
    "from Bio import SeqIO\n",
    "\n",
    "id_dict = SeqIO.to_dict(SeqIO.parse('archivos_trabajo/seq.nt.fa', 'fasta'))\n",
    "\n",
    "#accedemos así\n",
    "print(id_dict['seq4'], '\\n')  # objeto record\n",
    "print(id_dict['seq4'].seq, '\\n')  # solo secuencia\n",
    "print(type(id_dict['seq4'].seq), '\\n')  #clase Seq\n",
    "print(str(id_dict['seq4'].seq.transcribe()), '\\n')"
   ]
  },
  {
   "cell_type": "markdown",
   "metadata": {},
   "source": [
    "**Ejercicio 2** \n",
    "\n",
    "Imprimir codones (separados por un espacio) de cada secuencia en formato FASTA. \n",
    "Crea diccionario de tu archivo FASTA\n",
    "Encuentra todos los codones del primer marco de lectura\n",
    "Imprimir los codones separados con formato FASTA\n",
    "\n",
    "EJERCICIO AVANZADO: Hacer lo mismo para los 6 marcos de lectura\n",
    "En los encabezados deberá decir a qué marco de lectura pertenece"
   ]
  },
  {
   "cell_type": "code",
   "execution_count": 3,
   "metadata": {},
   "outputs": [
    {
     "name": "stdout",
     "output_type": "stream",
     "text": [
      ">seq1\n",
      "AAG AGC AGC TCG CGC TAA TGT GAT AGA TGG CGG TAA AGT AAA TGT CCT ATG GGC CAC CAA TTA TGG TGT ATG AGT GAA TCT CTG GTC CGA GAT TCA CTG AGT AAC TGC TGT ACA CAG TAG TAA CAC GTG GAG ATC CCA TAA GCT TCA CGT GTG GTC CAA TAA AAC ACT CCG TTG GTC AAC\n",
      ">seq2\n",
      "GCC ACA GAG CCT AGG ACC CCA ACC TAA CCT AAC CTA ACC TAA CCT ACA GTT TGA TCT TAA CCA TGA GGC TGA GAA GCG ATG TCC TGA CCG GCC TGT CCT AAC CGC CCT GAC CTA ACC GGC TTG ACC TAA CCG CCC TGA CCT AAC CAG GCT AAC CTA ACC AAA CCG TGA AAA AAG GAA TCT\n",
      ">seq3\n",
      "ATG AAA GTT ACA TAA AGA CTA TTC GAT GCA TAA ATA GTT CAG TTT TGA AAA CTT ACA TTT TGT TAA AGT CAG GTA CTT GTG TAT AAT ATC AAC TAA AT\n",
      ">seq4\n",
      "ATG CTA ACC AAA GTT TCA GTT CGG ACG TGT CGA TGA GCG ACG CTC AAA AAG GAA ACA ACA TGC CAA ATA GAA ACG ATC AAT TCG GCG ATG GAA ATC AGA ACA ACG ATC AGT TTG GAA ATC AAA ATA GAA ATA ACG GGA ACG ATC AGT TTA ATA ACA TGA TGC AGA ATA AAG GGA ATA ATC AAT TTA ATC CAG GTA ATC AGA ACA GAG GT\n"
     ]
    }
   ],
   "source": [
    "from Bio import SeqIO\n",
    "\n",
    "archivo_fasta = \"/Users/frida_galan/Desktop/PythonSEM2/Notes/seq.nt.fa\"\n",
    "\n",
    "codones_dict = SeqIO.to_dict(SeqIO.parse(archivo_fasta, \"fasta\"))\n",
    "\n",
    "for record_id, record in codones_dict.items():\n",
    "    sequence = str(record.seq)\n",
    "    codons = [sequence[i:i+3] for i in range(0, len(sequence), 3)]\n",
    "    codons_str = \" \".join(codons)\n",
    "    print(f\">{record_id}\\n{codons_str}\")"
   ]
  }
 ],
 "metadata": {
  "kernelspec": {
   "display_name": "Python 3",
   "language": "python",
   "name": "python3"
  },
  "language_info": {
   "codemirror_mode": {
    "name": "ipython",
    "version": 3
   },
   "file_extension": ".py",
   "mimetype": "text/x-python",
   "name": "python",
   "nbconvert_exporter": "python",
   "pygments_lexer": "ipython3",
   "version": "3.12.2"
  }
 },
 "nbformat": 4,
 "nbformat_minor": 2
}
