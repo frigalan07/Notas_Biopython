{
 "cells": [
  {
   "cell_type": "markdown",
   "metadata": {},
   "source": [
    "Obtener una cadena proteíca de cualquiera de sus ORF's \n",
    "ADVANCE: imprimir el de mayor longitud "
   ]
  },
  {
   "cell_type": "code",
   "execution_count": 15,
   "metadata": {},
   "outputs": [
    {
     "name": "stdout",
     "output_type": "stream",
     "text": [
      "Secuancia de aminoacidos del ORF1 es el más largo:  SHVANSGYMGMTPRLGLESLLE\n",
      "len ORF1:  22\n",
      "len ORF2:  5\n",
      "len ORF3:  16\n"
     ]
    }
   ],
   "source": [
    "from Bio.Seq import Seq\n",
    "from Bio import SeqUtils\n",
    "\n",
    "seqobj = Seq(\"AGCCATGTAGCTAACTCAGGTTACATGGGGATGACCCCGCGACTTGGATTAGAGTCTCTTTTGGAATAAGCCTGAATGATCCGAGTAGCATCTCAG\")\n",
    "\n",
    "# Traducir la secuencia completa hasta el primer stop codon\n",
    "proteina = seqobj.translate(to_stop=True)\n",
    "\n",
    "# Traducir en los diferentes marcos de lectura\n",
    "proteina_ORF1 = seqobj[0:].translate(to_stop=True)\n",
    "proteina_ORF2 = seqobj[1:].translate(to_stop=True)\n",
    "proteina_ORF3 = seqobj[2:].translate(to_stop=True)\n",
    "\n",
    "# Búsqueda de patrones\n",
    "pattern = \"TAC\"\n",
    "ORF = SeqUtils.nt_search(str(seqobj), pattern)\n",
    "\n",
    "# Determinar el ORF más largo\n",
    "if len(proteina_ORF1) > len(proteina_ORF2) and len(proteina_ORF1) > len(proteina_ORF3):\n",
    "    print(\"Secuencia de aminoácidos del ORF1 es el más largo: \", proteina_ORF1)\n",
    "elif len(proteina_ORF2) > len(proteina_ORF1) and len(proteina_ORF2) > len(proteina_ORF3):\n",
    "    print(\"Secuencia de aminoácidos del ORF2 es el más largo: \", proteina_ORF2)\n",
    "else:\n",
    "    print(\"Secuencia de aminoácidos del ORF3 es el más largo: \", proteina_ORF3)\n",
    "\n",
    "print(\"len ORF1: \", len(proteina_ORF1))\n",
    "print(\"len ORF2: \", len(proteina_ORF2))\n",
    "print(\"len ORF3: \", len(proteina_ORF3))\n"
   ]
  },
  {
   "cell_type": "markdown",
   "metadata": {},
   "source": [
    "Buscar secuencias consenso; una secuencia consenso es una secuencia \"promedio\" que refleja los nucleótidos o aminoácidos más comunes en una posición específica de un conjunto de secuencias similares."
   ]
  },
  {
   "cell_type": "code",
   "execution_count": 17,
   "metadata": {},
   "outputs": [],
   "source": [
    "from Bio import SeqUtils\n",
    "\n",
    "consensus = \"RGWYV\"\n",
    "sequence = \"CGTAGCTAGCTCAGAGCAGGGACACGTGCTAGCAACAGCGCT\"\n",
    "\n",
    "resultado = SeqUtils.nt_search(sequence, consensus)"
   ]
  },
  {
   "cell_type": "markdown",
   "metadata": {},
   "source": [
    "Motifs; Un motif en bioinformática es un patrón o secuencia conservada que aparece en múltiples secuencias de ADN, ARN, o proteínas. Identificar motifs ayuda a entender las regiones funcionales del genoma."
   ]
  },
  {
   "cell_type": "code",
   "execution_count": null,
   "metadata": {},
   "outputs": [],
   "source": [
    "from Bio.Seq import Seq\n",
    "from Bio import motifs\n",
    "\n",
    "# Crear instancias de secuencias de ADN\n",
    "instances = [\n",
    "    Seq(\"TACAA\"),\n",
    "    Seq(\"TACGC\"),\n",
    "    Seq(\"TACAC\"),\n",
    "    Seq(\"TACCC\"),\n",
    "    Seq(\"AACCC\"),\n",
    "    Seq(\"AATGC\"),\n",
    "    Seq(\"AATGC\"),\n",
    "]\n",
    "\n",
    "# Crear el motif\n",
    "m = motifs.create(instances)"
   ]
  },
  {
   "cell_type": "markdown",
   "metadata": {},
   "source": [
    "**SeqIO; Módulo de BioPython que permite:**\n",
    "\n",
    "1. Leer secuencias: SeqIO puede leer secuencias de archivos en varios formatos como FASTA, GenBank, EMBL, etc\n",
    "2. Escribir secuencias: SeqIO puede escribir secuencias en archivos en diferentes formatos.\n",
    "3. Conversión de formatos: Facilita la conversión de secuencias de un formato de archivo a otro.\n",
    "4. Manipulación de secuencias: Permite iterar sobre secuencias y acceder a sus atributos y metadatos.\n"
   ]
  },
  {
   "cell_type": "code",
   "execution_count": null,
   "metadata": {},
   "outputs": [],
   "source": [
    "'''\n",
    "**Lectura archivo formato fasta:**\n",
    "> parsea archivo example.fasta, puedes obtener id, seq, name, features, etc..\n",
    "> `SeqIO.parse()`, devuelve un iterador que te permite recorrer todas las secuencias en el archivo\n",
    "> `record`; cada record es un objeto de `SeqRecord` que contiene la secuencia y medatados \n",
    "> Utilizamos la sentencia with para abrir el archivo ejemplo.fasta en modo lectura. \n",
    "La sentencia with garantiza que el archivo se cierre automáticamente al final del bloque, incluso si ocurre una excepción. \n",
    "> `handle` es un objeto de archivo que se utiliza como entrada para las funciones de SeqIO.\n",
    "'''\n",
    "\n",
    "from Bio import SeqIO\n",
    "\n",
    "for record in SeqIO.parse(\"ejemplo.fasta\", \"fasta\"): \n",
    "    print(record.id)\n",
    "\n",
    "\n",
    "# alternativamente se puede usar lo siguiente    \n",
    "with open(\"ejemplo.fasta\") as handle: # `handle` : nombre del archivo u objeto similar al archivo\n",
    "    for record in SeqIO.parse(handle, \"fasta\"):\n",
    "        print(record.id)\n",
    "\n",
    "\n",
    "\n",
    "#SeqIO.read(): similar pero solo si tienes un único record en archivo\n",
    "\n",
    "record = SeqIO.read(\"single.fasta\", \"fasta\")"
   ]
  },
  {
   "cell_type": "markdown",
   "metadata": {},
   "source": [
    "**Funcion Format**\n",
    "Se utiliza para formatear cadenas de texto de manera flexible y legible. Aqui se utiliza para insetar valores(como el ID, longitud de la secuencia y su traducción)  dentro de la cadena de texto\n"
   ]
  },
  {
   "cell_type": "code",
   "execution_count": null,
   "metadata": {},
   "outputs": [],
   "source": [
    "#Leer archivos fasta \n",
    "\n",
    "from Bio import SeqIO\n",
    "#dirección de archivo\n",
    "filename = \"files/clase_2/seq.nt.fa\"\n",
    "#por cada record queremos ID, longitud seq y traducción\n",
    "for seq_record in SeqIO.parse(filename, \"fasta\"):\n",
    "    print('ID {}'.format(seq_record.id))\n",
    "    print('len {}'.format(len(seq_record)))\n",
    "    print('Traducción {}'.format(seq_record.seq.translate(to_stop=False)))\n",
    "#  (to_stop=False,cds=True)\n",
    "#cds revisa que tenga un codón de inicio"
   ]
  },
  {
   "cell_type": "code",
   "execution_count": null,
   "metadata": {},
   "outputs": [],
   "source": [
    "'''\n",
    "**Escribir secuencias a un archivo**\n",
    "`SeqIO.write` toma una lista de objetos `SeqRecord`, un nombre de archivo y el formato en el que se quiere escribir\n",
    "'''\n",
    "from Bio.Seq import Seq\n",
    "from Bio.SeqRecord import SeqRecord\n",
    "\n",
    "# Crear algunas secuencias de ejemplo\n",
    "sequences = [\n",
    "    SeqRecord(Seq(\"ATGGCCATTGTAATGGGCCGCTGAAAGGGTGCCCGATAG\"), id=\"seq1\", description=\"Example sequence 1\"),\n",
    "    SeqRecord(Seq(\"GGGCGGCGGTCAGTTCAGGGAAC\"), id=\"seq2\", description=\"Example sequence 2\"),\n",
    "]\n",
    "\n",
    "# Escribir las secuencias a un archivo FASTA\n",
    "SeqIO.write(sequences, \"output.fasta\", \"fasta\")\n",
    "#La diferencia con el metodo de abajo es que aqui \"output.fasta\" es el nombre del archivo en lugar de un objeto de archivo\n",
    "\n",
    "#Manera alternativa, necesita SeqRecord, archivo output y tipo de formato\n",
    "with open(\"ejemplo.fasta\", \"w\") as output_handle:\n",
    "    #secuencias es un iterador de objetos seqrecord  \n",
    "    SeqIO.write(secuencias, output_handle, \"fasta\")\n",
    "    "
   ]
  },
  {
   "cell_type": "code",
   "execution_count": null,
   "metadata": {},
   "outputs": [],
   "source": [
    "'''\n",
    "**Convertir entre formatos** \n",
    "'''\n",
    "from Bio import SeqIO\n",
    "from Bio.SeqRecord import SeqRecord\n",
    "\n",
    "\n",
    "# Convertir de FASTA a GenBank\n",
    "input_file = \"sequences.fasta\"\n",
    "output_file = \"sequences.gb\"\n",
    "\n",
    "# Leer las secuencias del archivo FASTA\n",
    "sequences = SeqIO.parse(input_file, \"fasta\")\n",
    "\n",
    "# Escribir las secuencias en el archivo GenBank\n",
    "SeqIO.write(sequences, output_file, \"genbank\")"
   ]
  },
  {
   "cell_type": "markdown",
   "metadata": {},
   "source": [
    "**Archivo fasta a diccionario de Python**\n",
    "\n",
    "Usaremos SeqIO.to_dict para que nuestro archivo parseado sea convertido en un diccionario. No es conveniente cuando el archivo es muy grande.  "
   ]
  },
  {
   "cell_type": "code",
   "execution_count": null,
   "metadata": {},
   "outputs": [],
   "source": [
    "from Bio import SeqIO\n",
    "\n",
    "id_dict = SeqIO.to_dict(SeqIO.parse('archivos_trabajo/seq.nt.fa', 'fasta'))\n",
    "\n",
    "#accedemos así\n",
    "print(id_dict['seq4'], '\\n')  # objeto record\n",
    "print(id_dict['seq4'].seq, '\\n')  # solo secuencia\n",
    "print(type(id_dict['seq4'].seq), '\\n')  #clase Seq\n",
    "print(str(id_dict['seq4'].seq.transcribe()), '\\n')"
   ]
  },
  {
   "cell_type": "markdown",
   "metadata": {},
   "source": [
    "**Ejercicio 2** \n",
    "\n",
    "Imprimir codones (separados por un espacio) de cada secuencia en formato FASTA. \n",
    "Crea diccionario de tu archivo FASTA\n",
    "Encuentra todos los codones del primer marco de lectura\n",
    "Imprimir los codones separados con formato FASTA\n",
    "\n",
    "EJERCICIO AVANZADO: Hacer lo mismo para los 6 marcos de lectura\n",
    "En los encabezados deberá decir a qué marco de lectura pertenece"
   ]
  },
  {
   "cell_type": "code",
   "execution_count": 4,
   "metadata": {},
   "outputs": [
    {
     "ename": "TypeError",
     "evalue": "'str' object is not callable",
     "output_type": "error",
     "traceback": [
      "\u001b[0;31m---------------------------------------------------------------------------\u001b[0m",
      "\u001b[0;31mTypeError\u001b[0m                                 Traceback (most recent call last)",
      "\u001b[1;32m/Users/frida_galan/Desktop/PythonSEM2/Notes/Practica_Biopython.ipynb Cell 16\u001b[0m line \u001b[0;36m3\n\u001b[1;32m      <a href='vscode-notebook-cell:/Users/frida_galan/Desktop/PythonSEM2/Notes/Practica_Biopython.ipynb#X22sZmlsZQ%3D%3D?line=0'>1</a>\u001b[0m \u001b[39mfrom\u001b[39;00m \u001b[39mBio\u001b[39;00m \u001b[39mimport\u001b[39;00m SeqIO\n\u001b[0;32m----> <a href='vscode-notebook-cell:/Users/frida_galan/Desktop/PythonSEM2/Notes/Practica_Biopython.ipynb#X22sZmlsZQ%3D%3D?line=2'>3</a>\u001b[0m codones_dict \u001b[39m=\u001b[39m SeqIO\u001b[39m.\u001b[39;49mto_dict(\u001b[39m\"\u001b[39;49m\u001b[39mseq.nt.fa\u001b[39;49m\u001b[39m\"\u001b[39;49m, \u001b[39m\"\u001b[39;49m\u001b[39mfasta\u001b[39;49m\u001b[39m\"\u001b[39;49m)\n",
      "File \u001b[0;32m/Library/Frameworks/Python.framework/Versions/3.12/lib/python3.12/site-packages/Bio/SeqIO/__init__.py:740\u001b[0m, in \u001b[0;36mto_dict\u001b[0;34m(sequences, key_function)\u001b[0m\n\u001b[1;32m    738\u001b[0m d \u001b[39m=\u001b[39m {}\n\u001b[1;32m    739\u001b[0m \u001b[39mfor\u001b[39;00m record \u001b[39min\u001b[39;00m sequences:\n\u001b[0;32m--> 740\u001b[0m     key \u001b[39m=\u001b[39m key_function(record)\n\u001b[1;32m    741\u001b[0m     \u001b[39mif\u001b[39;00m key \u001b[39min\u001b[39;00m d:\n\u001b[1;32m    742\u001b[0m         \u001b[39mraise\u001b[39;00m \u001b[39mValueError\u001b[39;00m(\u001b[39mf\u001b[39m\u001b[39m\"\u001b[39m\u001b[39mDuplicate key \u001b[39m\u001b[39m'\u001b[39m\u001b[39m{\u001b[39;00mkey\u001b[39m}\u001b[39;00m\u001b[39m'\u001b[39m\u001b[39m\"\u001b[39m)\n",
      "\u001b[0;31mTypeError\u001b[0m: 'str' object is not callable"
     ]
    }
   ],
   "source": [
    "from Bio import SeqIO\n",
    "\n",
    "archivo_fasta = /Users/frida_galan/Desktop/PythonSEM2/Notes/seq.nt.fa\n",
    "\n",
    "codones_dict = SeqIO.to_dict(SeqIO.parse(archivo_fasta, \"fasta\"))\n",
    "\n",
    "for record in codones_dict:\n",
    "    print"
   ]
  }
 ],
 "metadata": {
  "kernelspec": {
   "display_name": "Python 3",
   "language": "python",
   "name": "python3"
  },
  "language_info": {
   "codemirror_mode": {
    "name": "ipython",
    "version": 3
   },
   "file_extension": ".py",
   "mimetype": "text/x-python",
   "name": "python",
   "nbconvert_exporter": "python",
   "pygments_lexer": "ipython3",
   "version": "3.12.2"
  }
 },
 "nbformat": 4,
 "nbformat_minor": 2
}
