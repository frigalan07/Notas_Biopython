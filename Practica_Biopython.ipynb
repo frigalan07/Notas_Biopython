{
 "cells": [
  {
   "cell_type": "markdown",
   "metadata": {},
   "source": [
    "Obtener una cadena proteíca de cualquiera de sus ORF's \n",
    "ADVANCE: imprimir el de mayor longitud "
   ]
  },
  {
   "cell_type": "code",
   "execution_count": 1,
   "metadata": {},
   "outputs": [
    {
     "name": "stderr",
     "output_type": "stream",
     "text": [
      "/Library/Frameworks/Python.framework/Versions/3.12/lib/python3.12/site-packages/Bio/Seq.py:2880: BiopythonWarning: Partial codon, len(sequence) not a multiple of three. Explicitly trim the sequence or add trailing N before translation. This may become an error in future.\n",
      "  warnings.warn(\n"
     ]
    },
    {
     "name": "stdout",
     "output_type": "stream",
     "text": [
      "Secuencia de aminoácidos del ORF1 es el más largo:  SHVANSGYMGMTPRLGLESLLE\n",
      "len ORF1:  22\n",
      "len ORF2:  2\n",
      "len ORF3:  3\n"
     ]
    }
   ],
   "source": [
    "from Bio.Seq import Seq\n",
    "from Bio import SeqUtils\n",
    "\n",
    "seqobj = Seq(\"AGCCATGTAGCTAACTCAGGTTACATGGGGATGACCCCGCGACTTGGATTAGAGTCTCTTTTGGAATAAGCCTGAATGATCCGAGTAGCATCTCAG\")\n",
    "\n",
    "# Traducir la secuencia completa hasta el primer stop codon\n",
    "proteina = seqobj.translate(to_stop=True)\n",
    "\n",
    "# Traducir en los diferentes marcos de lectura\n",
    "proteina_ORF1 = seqobj[0:].translate(to_stop=True)\n",
    "proteina_ORF2 = seqobj[1:].translate(to_stop=True)\n",
    "proteina_ORF3 = seqobj[2:].translate(to_stop=True)\n",
    "\n",
    "# Búsqueda de patrones\n",
    "pattern = \"TAC\"\n",
    "ORF = SeqUtils.nt_search(str(seqobj), pattern)\n",
    "\n",
    "# Determinar el ORF más largo\n",
    "if len(proteina_ORF1) > len(proteina_ORF2) and len(proteina_ORF1) > len(proteina_ORF3):\n",
    "    print(\"Secuencia de aminoácidos del ORF1 es el más largo: \", proteina_ORF1)\n",
    "elif len(proteina_ORF2) > len(proteina_ORF1) and len(proteina_ORF2) > len(proteina_ORF3):\n",
    "    print(\"Secuencia de aminoácidos del ORF2 es el más largo: \", proteina_ORF2)\n",
    "else:\n",
    "    print(\"Secuencia de aminoácidos del ORF3 es el más largo: \", proteina_ORF3)\n",
    "\n",
    "print(\"len ORF1: \", len(proteina_ORF1))\n",
    "print(\"len ORF2: \", len(proteina_ORF2))\n",
    "print(\"len ORF3: \", len(proteina_ORF3))\n"
   ]
  },
  {
   "cell_type": "markdown",
   "metadata": {},
   "source": [
    "Buscar secuencias consenso; una secuencia consenso es una secuencia \"promedio\" que refleja los nucleótidos o aminoácidos más comunes en una posición específica de un conjunto de secuencias similares."
   ]
  },
  {
   "cell_type": "code",
   "execution_count": 17,
   "metadata": {},
   "outputs": [],
   "source": [
    "from Bio import SeqUtils\n",
    "\n",
    "consensus = \"RGWYV\"\n",
    "sequence = \"CGTAGCTAGCTCAGAGCAGGGACACGTGCTAGCAACAGCGCT\"\n",
    "\n",
    "resultado = SeqUtils.nt_search(sequence, consensus)"
   ]
  },
  {
   "cell_type": "markdown",
   "metadata": {},
   "source": [
    "Motifs; Un motif en bioinformática es un patrón o secuencia conservada que aparece en múltiples secuencias de ADN, ARN, o proteínas. Identificar motifs ayuda a entender las regiones funcionales del genoma."
   ]
  },
  {
   "cell_type": "code",
   "execution_count": null,
   "metadata": {},
   "outputs": [],
   "source": [
    "from Bio.Seq import Seq\n",
    "from Bio import motifs\n",
    "\n",
    "# Crear instancias de secuencias de ADN\n",
    "instances = [\n",
    "    Seq(\"TACAA\"),\n",
    "    Seq(\"TACGC\"),\n",
    "    Seq(\"TACAC\"),\n",
    "    Seq(\"TACCC\"),\n",
    "    Seq(\"AACCC\"),\n",
    "    Seq(\"AATGC\"),\n",
    "    Seq(\"AATGC\"),\n",
    "]\n",
    "\n",
    "# Crear el motif\n",
    "m = motifs.create(instances)"
   ]
  },
  {
   "cell_type": "markdown",
   "metadata": {},
   "source": [
    "**SeqIO; Módulo de BioPython que permite:**\n",
    "\n",
    "1. Leer secuencias: SeqIO puede leer secuencias de archivos en varios formatos como FASTA, GenBank, EMBL, etc\n",
    "2. Escribir secuencias: SeqIO puede escribir secuencias en archivos en diferentes formatos.\n",
    "3. Conversión de formatos: Facilita la conversión de secuencias de un formato de archivo a otro.\n",
    "4. Manipulación de secuencias: Permite iterar sobre secuencias y acceder a sus atributos y metadatos.\n"
   ]
  },
  {
   "cell_type": "code",
   "execution_count": null,
   "metadata": {},
   "outputs": [],
   "source": [
    "'''\n",
    "**Lectura archivo formato fasta:**\n",
    "> parsea archivo example.fasta, puedes obtener id, seq, name, features, etc..\n",
    "> `SeqIO.parse()`, devuelve un iterador que te permite recorrer todas las secuencias en el archivo\n",
    "> `record`; cada record es un objeto de `SeqRecord` que contiene la secuencia y medatados \n",
    "> Utilizamos la sentencia with para abrir el archivo ejemplo.fasta en modo lectura. \n",
    "La sentencia with garantiza que el archivo se cierre automáticamente al final del bloque, incluso si ocurre una excepción. \n",
    "> `handle` es un objeto de archivo que se utiliza como entrada para las funciones de SeqIO.\n",
    "'''\n",
    "\n",
    "from Bio import SeqIO\n",
    "\n",
    "for record in SeqIO.parse(\"ejemplo.fasta\", \"fasta\"): \n",
    "    print(record.id)\n",
    "\n",
    "\n",
    "# alternativamente se puede usar lo siguiente    \n",
    "with open(\"ejemplo.fasta\") as handle: # `handle` : nombre del archivo u objeto similar al archivo\n",
    "    for record in SeqIO.parse(handle, \"fasta\"):\n",
    "        print(record.id)\n",
    "\n",
    "\n",
    "\n",
    "#SeqIO.read(): similar pero solo si tienes un único record en archivo\n",
    "\n",
    "record = SeqIO.read(\"single.fasta\", \"fasta\")"
   ]
  },
  {
   "cell_type": "markdown",
   "metadata": {},
   "source": [
    "**Funcion Format**\n",
    "Se utiliza para formatear cadenas de texto de manera flexible y legible. Aqui se utiliza para insetar valores(como el ID, longitud de la secuencia y su traducción)  dentro de la cadena de texto\n"
   ]
  },
  {
   "cell_type": "code",
   "execution_count": null,
   "metadata": {},
   "outputs": [],
   "source": [
    "#Leer archivos fasta \n",
    "\n",
    "from Bio import SeqIO\n",
    "#dirección de archivo\n",
    "filename = \"files/clase_2/seq.nt.fa\"\n",
    "#por cada record queremos ID, longitud seq y traducción\n",
    "for seq_record in SeqIO.parse(filename, \"fasta\"):\n",
    "    print('ID {}'.format(seq_record.id))\n",
    "    print('len {}'.format(len(seq_record)))\n",
    "    print('Traducción {}'.format(seq_record.seq.translate(to_stop=False)))\n",
    "#  (to_stop=False,cds=True)\n",
    "#cds revisa que tenga un codón de inicio"
   ]
  },
  {
   "cell_type": "code",
   "execution_count": null,
   "metadata": {},
   "outputs": [],
   "source": [
    "'''\n",
    "**Escribir secuencias a un archivo**\n",
    "`SeqIO.write` toma una lista de objetos `SeqRecord`, un nombre de archivo y el formato en el que se quiere escribir\n",
    "'''\n",
    "from Bio.Seq import Seq\n",
    "from Bio.SeqRecord import SeqRecord\n",
    "\n",
    "# Crear algunas secuencias de ejemplo\n",
    "sequences = [\n",
    "    SeqRecord(Seq(\"ATGGCCATTGTAATGGGCCGCTGAAAGGGTGCCCGATAG\"), id=\"seq1\", description=\"Example sequence 1\"),\n",
    "    SeqRecord(Seq(\"GGGCGGCGGTCAGTTCAGGGAAC\"), id=\"seq2\", description=\"Example sequence 2\"),\n",
    "]\n",
    "\n",
    "# Escribir las secuencias a un archivo FASTA\n",
    "SeqIO.write(sequences, \"output.fasta\", \"fasta\")\n",
    "#La diferencia con el metodo de abajo es que aqui \"output.fasta\" es el nombre del archivo en lugar de un objeto de archivo\n",
    "\n",
    "#Manera alternativa, necesita SeqRecord, archivo output y tipo de formato\n",
    "with open(\"ejemplo.fasta\", \"w\") as output_handle:\n",
    "    #secuencias es un iterador de objetos seqrecord  \n",
    "    SeqIO.write(secuencias, output_handle, \"fasta\")\n",
    "    "
   ]
  },
  {
   "cell_type": "code",
   "execution_count": null,
   "metadata": {},
   "outputs": [],
   "source": [
    "'''\n",
    "**Convertir entre formatos** \n",
    "'''\n",
    "from Bio import SeqIO\n",
    "from Bio.SeqRecord import SeqRecord\n",
    "\n",
    "\n",
    "# Convertir de FASTA a GenBank\n",
    "input_file = \"sequences.fasta\"\n",
    "output_file = \"sequences.gb\"\n",
    "\n",
    "# Leer las secuencias del archivo FASTA\n",
    "sequences = SeqIO.parse(input_file, \"fasta\")\n",
    "\n",
    "# Escribir las secuencias en el archivo GenBank\n",
    "SeqIO.write(sequences, output_file, \"genbank\")"
   ]
  },
  {
   "cell_type": "markdown",
   "metadata": {},
   "source": [
    "**Archivo fasta a diccionario de Python**\n",
    "\n",
    "Usaremos SeqIO.to_dict para que nuestro archivo parseado sea convertido en un diccionario. No es conveniente cuando el archivo es muy grande. \n",
    "\n",
    "*Ventajas:*\n",
    "\n",
    "> Acceso Rápido: Los diccionarios permiten un acceso muy rápido a las secuencias por su identificador (O(1) en promedio), lo que es muy eficiente si necesitas buscar secuencias específicas frecuentemente.\n",
    "> Organización por Identificador: Es fácil y rápido recuperar secuencias específicas, lo que puede ser útil en análisis donde el acceso por identificador es común.\n",
    "\n",
    "*Desventajas:*\n",
    "\n",
    "> Mayor Uso de Memoria: Los diccionarios utilizan más memoria debido a la necesidad de almacenar las claves además de los valores.\n",
    "> Complejidad: Puede ser más complicado de manejar si solo necesitas iterar sobre las secuencias."
   ]
  },
  {
   "cell_type": "code",
   "execution_count": null,
   "metadata": {},
   "outputs": [],
   "source": [
    "from Bio import SeqIO\n",
    "\n",
    "id_dict = SeqIO.to_dict(SeqIO.parse('archivos_trabajo/seq.nt.fa', 'fasta'))\n",
    "\n",
    "#accedemos así\n",
    "print(id_dict['seq4'], '\\n')  # objeto record\n",
    "print(id_dict['seq4'].seq, '\\n')  # solo secuencia\n",
    "print(type(id_dict['seq4'].seq), '\\n')  #clase Seq\n",
    "print(str(id_dict['seq4'].seq.transcribe()), '\\n')"
   ]
  },
  {
   "cell_type": "markdown",
   "metadata": {},
   "source": [
    "**Ejercicio 2** \n",
    "\n",
    "Imprimir codones (separados por un espacio) de cada secuencia en formato FASTA. \n",
    "Crea diccionario de tu archivo FASTA\n",
    "Encuentra todos los codones del primer marco de lectura\n",
    "Imprimir los codones separados con formato FASTA\n",
    "\n",
    "EJERCICIO AVANZADO: Hacer lo mismo para los 6 marcos de lectura\n",
    "En los encabezados deberá decir a qué marco de lectura pertenece"
   ]
  },
  {
   "cell_type": "code",
   "execution_count": 3,
   "metadata": {},
   "outputs": [
    {
     "name": "stdout",
     "output_type": "stream",
     "text": [
      ">seq1\n",
      "AAG AGC AGC TCG CGC TAA TGT GAT AGA TGG CGG TAA AGT AAA TGT CCT ATG GGC CAC CAA TTA TGG TGT ATG AGT GAA TCT CTG GTC CGA GAT TCA CTG AGT AAC TGC TGT ACA CAG TAG TAA CAC GTG GAG ATC CCA TAA GCT TCA CGT GTG GTC CAA TAA AAC ACT CCG TTG GTC AAC\n",
      ">seq2\n",
      "GCC ACA GAG CCT AGG ACC CCA ACC TAA CCT AAC CTA ACC TAA CCT ACA GTT TGA TCT TAA CCA TGA GGC TGA GAA GCG ATG TCC TGA CCG GCC TGT CCT AAC CGC CCT GAC CTA ACC GGC TTG ACC TAA CCG CCC TGA CCT AAC CAG GCT AAC CTA ACC AAA CCG TGA AAA AAG GAA TCT\n",
      ">seq3\n",
      "ATG AAA GTT ACA TAA AGA CTA TTC GAT GCA TAA ATA GTT CAG TTT TGA AAA CTT ACA TTT TGT TAA AGT CAG GTA CTT GTG TAT AAT ATC AAC TAA AT\n",
      ">seq4\n",
      "ATG CTA ACC AAA GTT TCA GTT CGG ACG TGT CGA TGA GCG ACG CTC AAA AAG GAA ACA ACA TGC CAA ATA GAA ACG ATC AAT TCG GCG ATG GAA ATC AGA ACA ACG ATC AGT TTG GAA ATC AAA ATA GAA ATA ACG GGA ACG ATC AGT TTA ATA ACA TGA TGC AGA ATA AAG GGA ATA ATC AAT TTA ATC CAG GTA ATC AGA ACA GAG GT\n"
     ]
    }
   ],
   "source": [
    "from Bio import SeqIO\n",
    "\n",
    "archivo_fasta = \"/Users/frida_galan/Desktop/PythonSEM2/Notes/seq.nt.fa\"\n",
    "\n",
    "codones_dict = SeqIO.to_dict(SeqIO.parse(archivo_fasta, \"fasta\"))\n",
    "\n",
    "for record_id, record in codones_dict.items():\n",
    "    sequence = str(record.seq)\n",
    "    codons = [sequence[i:i+3] for i in range(0, len(sequence), 3)]\n",
    "    codons_str = \" \".join(codons)\n",
    "    print(f\">{record_id}\\n{codons_str}\")"
   ]
  },
  {
   "cell_type": "markdown",
   "metadata": {},
   "source": [
    "**Manejo de FASTA con listas** \n",
    "\n",
    "*Ventajas:*\n",
    "> Simplicidad: Es fácil iterar sobre las secuencias en una lista.\n",
    "> Uso de memoria: Generalmente, el uso de memoria es menor en comparación con los diccionarios, ya que no hay almacenamiento adicional para las claves.\n",
    "\n",
    "*Desventajas:*\n",
    "> Acceso Secuencial: Si necesitas buscar una secuencia específica por su identificador, tendrás que recorrer la lista completa hasta encontrarla, lo cual es ineficiente (O(n))."
   ]
  },
  {
   "cell_type": "code",
   "execution_count": 4,
   "metadata": {},
   "outputs": [
    {
     "name": "stdout",
     "output_type": "stream",
     "text": [
      "seq4 \n",
      "\n",
      "ATGCTAACCAAAGTTTCAGTTCGGACGTGTCGATGAGCGACGCTCAAAAAGGAAACAACATGCCAAATAGAAACGATCAATTCGGCGATGGAAATCAGAACAACGATCAGTTTGGAAATCAAAATAGAAATAACGGGAACGATCAGTTTAATAACATGATGCAGAATAAAGGGAATAATCAATTTAATCCAGGTAATCAGAACAGAGGT \n",
      "\n",
      "[SeqRecord(seq=Seq('AAGAGCAGCTCGCGCTAATGTGATAGATGGCGGTAAAGTAAATGTCCTATGGGC...AAC'), id='seq1', name='seq1', description='seq1', dbxrefs=[]), SeqRecord(seq=Seq('GCCACAGAGCCTAGGACCCCAACCTAACCTAACCTAACCTAACCTACAGTTTGA...TCT'), id='seq2', name='seq2', description='seq2', dbxrefs=[]), SeqRecord(seq=Seq('ATGAAAGTTACATAAAGACTATTCGATGCATAAATAGTTCAGTTTTGAAAACTT...AAT'), id='seq3', name='seq3', description='seq3', dbxrefs=[]), SeqRecord(seq=Seq('ATGCTAACCAAAGTTTCAGTTCGGACGTGTCGATGAGCGACGCTCAAAAAGGAA...GGT'), id='seq4', name='seq4', description='seq4', dbxrefs=[])]\n"
     ]
    }
   ],
   "source": [
    "from Bio import SeqIO\n",
    "\n",
    "archivo_fasta = \"/Users/frida_galan/Desktop/PythonSEM2/Notes/seq.nt.fa\"\n",
    "\n",
    "id_list = list(SeqIO.parse(archivo_fasta, \"fasta\"))\n",
    "print(id_list[-1].id, '\\n') #accedemos al id del último elemento\n",
    "print(id_list[-1].seq, '\\n') #accedemos al seq del último elemento\n",
    "print(id_list) #para examinar "
   ]
  },
  {
   "cell_type": "markdown",
   "metadata": {},
   "source": [
    "**Uso de `SeqIO.index`**\n",
    "\n",
    "Herramienta eficiente para manejar archivos FASTA o similares. Especilamente útil para acceder a registros de manera rápida sin cargar todo el archivo a la memoria. \n",
    "- Ideal para archivos grandes\n",
    "\n",
    "\n",
    "1) Indexación de los archivos; Biopython crea un índice del archivo FASTA. Este índice almacena las posiciones de los registros en el archivo, permitiendo un acceso rápido y eficiente a cualquier registro específico.\n",
    "A diferencia de SeqIO.parse o SeqIO.to_dict, SeqIO.index no carga todas las secuencias en la memoria. En su lugar, solo mantiene la información necesaria para localizar rápidamente cada secuencia en el archivo.\n",
    "\n",
    "2) Acceso a registros específicos;\n",
    "Utiliza el indice creado anteriormente para buscar la posición del registro y luego solo cargar ese registro en la memoria. \n"
   ]
  },
  {
   "cell_type": "code",
   "execution_count": null,
   "metadata": {},
   "outputs": [],
   "source": [
    "from Bio import SeqIO\n",
    "\n",
    "record_dict = SeqIO.index(\"example2.fasta\", \"fasta\")\n",
    "# hasta este momento recuperará la info de seq1\n",
    "print(record_dict[\"seq1\"])"
   ]
  },
  {
   "cell_type": "markdown",
   "metadata": {},
   "source": [
    "**Crear un subset** \n",
    "\n",
    "Si queremos un FASTA seleccionando dolo ciertas secuencias podríamos hacer lo siguiente: "
   ]
  },
  {
   "cell_type": "code",
   "execution_count": 6,
   "metadata": {},
   "outputs": [],
   "source": [
    "from Bio import SeqIO\n",
    "\n",
    "#Guardamos IDs de interés\n",
    "seq_ids = ['seq4', 'seq1']\n",
    "\n",
    "#Escribimos el archivo ya filtrado con `filtered.fasta` con las secuencias seleccionadas \n",
    "with open(\"/Users/frida_galan/Desktop/PythonSEM2/Notes/filtered.fasta\", \"w\") as out_handle:\n",
    "    for record in SeqIO.parse('/Users/frida_galan/Desktop/PythonSEM2/Notes/seq.nt.fa', \"fasta\"):\n",
    "        if record.id in seq_ids:\n",
    "            SeqIO.write(record, out_handle, \"fasta\")"
   ]
  },
  {
   "cell_type": "markdown",
   "metadata": {},
   "source": [
    "**Fastq**\n",
    "\n",
    "* Identificador de secuencia con información sobre la secuenciación. Los contenidos de esta línea varian, basados en el software de conversión BCL a FASTQ usado\n",
    "\n",
    "* La secuencia ( A, C, T, G y N)\n",
    "\n",
    "* Un separador, signo de más (+)\n",
    "\n",
    "* Puntuaciones de calidad. Estas son codificadas con Phred +33, usando caracteres ASCII para representar puntuaciones de calidad numéricas\n",
    "\n",
    "\n",
    "**Puntación de calidad** \n",
    "    La puntuación Q de 3 significa P=0,5, lo que significa que hay un 50% de probabilidades de que la base esté equivocada"
   ]
  },
  {
   "cell_type": "code",
   "execution_count": null,
   "metadata": {},
   "outputs": [],
   "source": [
    "#Leer archivos Fastq\n",
    "\n",
    "from Bio import SeqIO\n",
    "\n",
    "n = 0\n",
    "# indicamos que es un archivo fastq\n",
    "for record in SeqIO.parse(\"archivos_trabajo/sample.fastq\", \"fastq\"):\n",
    "    if n < 5:\n",
    "        # pedimos id y seq\n",
    "        print(\"%s %s\" % (record.id, record.seq))\n",
    "        n +=1\n",
    "    else:break\n",
    "print ('\\n',record.letter_annotations.keys())\n",
    "# nos da los valores en qscore (ya no en ASCII)\n",
    "print (record.letter_annotations[\"phred_quality\"])"
   ]
  },
  {
   "cell_type": "markdown",
   "metadata": {},
   "source": [
    "**FASTQC**\n",
    "\n",
    "FastQC es un programa diseñado para detectar posibles problemas en los conjuntos de datos de secuenciación de alto rendimiento. Ejecuta un conjunto de análisis en uno o más archivos de secuencia sin procesar en formato fastq o bam y produce un informe que resume los resultados.\n",
    "\n",
    "> Funcionalidades de FastQC\n",
    "FastQC realiza varios análisis, entre los cuales se incluyen:\n",
    "\n",
    "- Per Base Sequence Quality: Evalúa la calidad de las bases a lo largo de cada lectura.\n",
    "- Per Sequence Quality Scores: Muestra la distribución de las calidades de todas las lecturas.\n",
    "- Per Base Sequence Content: Muestra la proporción de cada base (A, T, C, G) en cada posición a lo largo de todas las lecturas.\n",
    "- Per Sequence GC Content: Muestra la distribución del contenido de GC en las secuencias.\n",
    "- Per Base N Content: Evalúa la frecuencia de bases 'N' (bases desconocidas) en cada posición.\n",
    "- Sequence Length Distribution: Muestra la distribución de la longitud de las lecturas.\n",
    "- Sequence Duplication Levels: Evalúa el nivel de duplicación de secuencias.\n",
    "- Overrepresented Sequences: Identifica secuencias que están sobre-representadas en el conjunto de datos.\n",
    "- Adapter Content: Detecta la presencia de secuencias adaptadoras que no se han eliminado adecuadamente.\n",
    "- Kmer Content: Busca secuencias de oligonucleótidos cortos (k-mers) que están sobre-representados en el conjunto de datos.\n",
    "\n",
    "> ¿Cómo Funciona FastQC?\n",
    "FastQC lee los archivos FASTQ y realiza varios análisis estadísticos y gráficos para generar un informe detallado sobre la calidad de los datos de secuenciación. El informe incluye gráficos y tablas que resumen los resultados de cada análisis mencionado anteriormente."
   ]
  }
 ],
 "metadata": {
  "kernelspec": {
   "display_name": "Python 3",
   "language": "python",
   "name": "python3"
  },
  "language_info": {
   "codemirror_mode": {
    "name": "ipython",
    "version": 3
   },
   "file_extension": ".py",
   "mimetype": "text/x-python",
   "name": "python",
   "nbconvert_exporter": "python",
   "pygments_lexer": "ipython3",
   "version": "3.12.2"
  }
 },
 "nbformat": 4,
 "nbformat_minor": 2
}
